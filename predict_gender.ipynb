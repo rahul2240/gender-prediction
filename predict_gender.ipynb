{
  "nbformat": 4,
  "nbformat_minor": 0,
  "metadata": {
    "kernelspec": {
      "display_name": "Python [Root]",
      "language": "python",
      "name": "Python [Root]"
    },
    "language_info": {
      "codemirror_mode": {
        "name": "ipython",
        "version": 2
      },
      "file_extension": ".py",
      "mimetype": "text/x-python",
      "name": "python",
      "nbconvert_exporter": "python",
      "pygments_lexer": "ipython2",
      "version": "2.7.12"
    },
    "colab": {
      "name": "Deep Learning (RNN - LSTMs) Predict Gender from Name.ipynb",
      "provenance": [],
      "collapsed_sections": [],
      "toc_visible": true
    },
    "accelerator": "GPU"
  },
  "cells": [
    {
      "cell_type": "markdown",
      "metadata": {
        "id": "tSdO3m8t_qVp",
        "colab_type": "text"
      },
      "source": [
        "<h1 align=\"center\"> Deep Learning gender from name - RNN LSTMs </h1>"
      ]
    },
    {
      "cell_type": "code",
      "metadata": {
        "id": "NZEcmkYXX-5y",
        "colab_type": "code",
        "outputId": "0da23183-7361-419e-a955-db0dc728cfb8",
        "colab": {
          "base_uri": "https://localhost:8080/",
          "height": 63
        }
      },
      "source": [
        "import tensorflow as tf\n"
      ],
      "execution_count": 0,
      "outputs": [
        {
          "output_type": "display_data",
          "data": {
            "text/html": [
              "<p style=\"color: red;\">\n",
              "The default version of TensorFlow in Colab will soon switch to TensorFlow 2.x.<br>\n",
              "We recommend you <a href=\"https://www.tensorflow.org/guide/migrate\" target=\"_blank\">upgrade</a> now \n",
              "or ensure your notebook will continue to use TensorFlow 1.x via the <code>%tensorflow_version 1.x</code> magic:\n",
              "<a href=\"https://colab.research.google.com/notebooks/tensorflow_version.ipynb\" target=\"_blank\">more info</a>.</p>\n"
            ],
            "text/plain": [
              "<IPython.core.display.HTML object>"
            ]
          },
          "metadata": {
            "tags": []
          }
        }
      ]
    },
    {
      "cell_type": "code",
      "metadata": {
        "id": "oSnALmw6_qVv",
        "colab_type": "code",
        "outputId": "e9552778-b3a0-42a0-df98-ece41771fe01",
        "colab": {
          "base_uri": "https://localhost:8080/",
          "height": 34
        }
      },
      "source": [
        "from __future__ import print_function\n",
        "\n",
        "from sklearn.preprocessing import OneHotEncoder\n",
        "import keras\n",
        "from keras.layers import Dense, Activation, Dropout, Flatten, AveragePooling1D\n",
        "from keras.preprocessing import sequence\n",
        "from keras.models import Sequential\n",
        "from keras.layers import Dense, Embedding\n",
        "from keras.layers import LSTM\n",
        "\n",
        "import pandas as pd\n",
        "import numpy as np\n",
        "import os\n",
        "\n",
        "import unicodedata\n",
        "import string\n"
      ],
      "execution_count": 0,
      "outputs": [
        {
          "output_type": "stream",
          "text": [
            "Using TensorFlow backend.\n"
          ],
          "name": "stderr"
        }
      ]
    },
    {
      "cell_type": "code",
      "metadata": {
        "id": "UqI9_wueYhuE",
        "colab_type": "code",
        "colab": {}
      },
      "source": [
        "# tf.__version__"
      ],
      "execution_count": 0,
      "outputs": []
    },
    {
      "cell_type": "code",
      "metadata": {
        "id": "5pLHC1nf_qVz",
        "colab_type": "code",
        "colab": {}
      },
      "source": [
        "#parameters namelength = maxlen, labels = male, female\n",
        "maxlen = 25\n",
        "labels = 2"
      ],
      "execution_count": 0,
      "outputs": []
    },
    {
      "cell_type": "markdown",
      "metadata": {
        "id": "fwkQnBuKAH5d",
        "colab_type": "text"
      },
      "source": [
        "# **Data Preparation**"
      ]
    },
    {
      "cell_type": "code",
      "metadata": {
        "id": "jhO4HyhRE6Ux",
        "colab_type": "code",
        "colab": {}
      },
      "source": [
        "\n",
        "all_letters = string.ascii_letters + \" .,;'\"\n",
        "n_letters = len(all_letters)\n",
        "\n",
        "# Turn a Unicode string to plain ASCII, thanks to http://stackoverflow.com/a/518232/2809427\n",
        "def unicodeToAscii(s):\n",
        "    return ''.join(\n",
        "        c for c in unicodedata.normalize('NFD', s)\n",
        "        if unicodedata.category(c) != 'Mn'\n",
        "        and c in all_letters\n",
        "    )\n",
        "\n",
        "#print(unicodeToAscii('Ślusàrski fgdf'))"
      ],
      "execution_count": 0,
      "outputs": []
    },
    {
      "cell_type": "code",
      "metadata": {
        "id": "7QIt_qkGAMn_",
        "colab_type": "code",
        "colab": {}
      },
      "source": [
        "# f = open('./f-5000-names.txt').read().split(\",\")\n",
        "# m = open('./m-5000-names.txt').read().split(\",\")\n"
      ],
      "execution_count": 0,
      "outputs": []
    },
    {
      "cell_type": "code",
      "metadata": {
        "id": "8cOxjnEjBzYm",
        "colab_type": "code",
        "colab": {}
      },
      "source": [
        "female = pd.read_csv('./Indian-Female-Names.csv')\n",
        "male = pd.read_csv('./Indian-Male-Names.csv')\n"
      ],
      "execution_count": 0,
      "outputs": []
    },
    {
      "cell_type": "code",
      "metadata": {
        "id": "BIc1vdVJoeIM",
        "colab_type": "code",
        "colab": {}
      },
      "source": [
        "whitelist = set('abcdefghijklmnopqrstuvwxyz ABCDEFGHIJKLMNOPQRSTUVWXYZ')\n",
        "\n",
        "\n",
        "#f = [''.join(filter(whitelist.__contains__, unicodeToAscii(str(i).lower()))) for i in f]\n",
        "#m = [''.join(filter(whitelist.__contains__, unicodeToAscii(str(i).lower()))) for i in m]\n",
        "\n",
        "\n",
        "  \n",
        "\n",
        "female = [''.join(filter(whitelist.__contains__, unicodeToAscii(str(i).lower()))) for i in female.name.tolist()]\n",
        "male = [''.join(filter(whitelist.__contains__, unicodeToAscii(str(i).lower()))) for i in male.name.tolist()]\n",
        "\n",
        "\n",
        "\n",
        "#f = list(set(f) - set(m1))\n",
        "#m = list(set(m) - set(f1))\n",
        "\n",
        "f = [\"a\"]\n",
        "m = [\"sa\"]"
      ],
      "execution_count": 0,
      "outputs": []
    },
    {
      "cell_type": "code",
      "metadata": {
        "id": "yxnxRDLLDxBm",
        "colab_type": "code",
        "colab": {}
      },
      "source": [
        "# while(\"   \" in f):\n",
        "#   f.remove(\"   \")\n",
        "# while(\"   \" in m):\n",
        "#   m.remove(\"   \")\n",
        "\n",
        "# while(\"   \" in female):\n",
        "#   female.remove(\"   \")\n",
        "\n",
        "# while(\"   \" in male):\n",
        "#   male.remove(\"   \")\n",
        "\n",
        "\n",
        "\n",
        "# while(\"  \" in f):\n",
        "#   f.remove(\"  \")\n",
        "\n",
        "\n",
        "# while(\"  \" in m):\n",
        "#   m.remove(\"  \")\n",
        "\n",
        "\n",
        "# while(\"  \" in female):\n",
        "#   female.remove(\"  \")\n",
        "\n",
        "\n",
        "# while(\"  \" in male):\n",
        "#   male.remove(\"  \")\n",
        "\n",
        "\n",
        "\n",
        "# while(\" \" in f):\n",
        "#   f.remove(\" \")\n",
        "\n",
        "\n",
        "# while(\" \" in m):\n",
        "#   m.remove(\" \")\n",
        "\n",
        "\n",
        "# while(\" \" in female):\n",
        "#   female.remove(\" \")\n",
        "\n",
        "\n",
        "# while(\" \" in male):\n",
        "#   male.remove(\" \")\n",
        "  \n",
        "# while(\"\" in f):\n",
        "#   f.remove(\"\")\n",
        "\n",
        "\n",
        "# while(\"\" in m):\n",
        "#   m.remove(\"\")\n",
        "\n",
        "\n",
        "# while(\"\" in female):\n",
        "#   female.remove(\"\")\n",
        "\n",
        "\n",
        "# while(\"\" in male):\n",
        "#   male.remove(\"\")\n",
        "\n",
        "\n",
        "\n",
        "\n",
        "\n",
        "\n"
      ],
      "execution_count": 0,
      "outputs": []
    },
    {
      "cell_type": "code",
      "metadata": {
        "id": "Ax2_koeHTN4X",
        "colab_type": "code",
        "colab": {}
      },
      "source": [
        "for i in range(len(female)):\n",
        "  x = female[i]\n",
        "\n",
        "  if x[:2] == 'mr' or x[:3] == 'ms':\n",
        "    x = x[2:]\n",
        "  elif x[:3] == 'mrs' or x[:3] == 'smt':\n",
        "    x = x[3:]\n",
        "  elif x[:4] == 'mohd' or x[:4] == 'shri':\n",
        "    x = x[4:]\n",
        "  \n",
        "  while x[0]==\"\":\n",
        "    x = x[1:]\n",
        "  \n",
        "  if len(x.split())>=2:\n",
        "    x = x.split()[0]\n",
        "  \n",
        "  female[i] = x\n",
        "\n",
        "for i in range(len(male)):\n",
        "  x = male[i]\n",
        "\n",
        "  if x[:2] == 'mr' or x[:3] == 'ms':\n",
        "    x = x[2:]\n",
        "  elif x[:3] == 'mrs' or x[:3] == 'smt':\n",
        "    x = x[3:]\n",
        "  elif x[:4] == 'mohd' or x[:4] == 'shri':\n",
        "    x = x[4:]\n",
        "  \n",
        "\n",
        "  while x[0]==\"\":\n",
        "    x = x[1:]\n",
        "  \n",
        "  if len(x.split())>=2:\n",
        "    x = x.split()[0]\n",
        "  \n",
        "  male[i] = x"
      ],
      "execution_count": 0,
      "outputs": []
    },
    {
      "cell_type": "code",
      "metadata": {
        "id": "-meI4ypKoN4q",
        "colab_type": "code",
        "colab": {}
      },
      "source": [
        "# for i in female:\n",
        "#   i = \" \".join(i.split())\n",
        "# for i in male:\n",
        "#   i = \" \".join(i.split())"
      ],
      "execution_count": 0,
      "outputs": []
    },
    {
      "cell_type": "code",
      "metadata": {
        "id": "THIsZcNj8YaK",
        "colab_type": "code",
        "colab": {}
      },
      "source": [
        "# for i in range(len(f)):\n",
        "\n",
        "\n",
        "#   #print(f[i], i)\n",
        "#   x = f[i].split()[:2]\n",
        "  \n",
        "  \n",
        "#   if x[0] in ['mr', 'mrs', 'smt', 'mohd', 'shri', 'ms'] or len(x[0])<=2:\n",
        "#     f[i] = str(x[1]) if len(x)>=2 else ''\n",
        "#   else:\n",
        "#     f[i] = str(x[0])\n",
        "\n",
        "# for i in range(len(m)):\n",
        "\n",
        "\n",
        "#   #print(m[i], i)\n",
        "#   x = m[i].split()[:2]\n",
        "  \n",
        "  \n",
        "#   if x[0] in ['mr', 'mrs', 'smt', 'mohd', 'shri', 'ms'] or len(x[0])<=2:\n",
        "#     m[i] = str(x[1]) if len(x)>=2 else ''\n",
        "#   else:\n",
        "#     m[i] = str(x[0])\n",
        "\n",
        "# for i in range(len(female)):\n",
        "\n",
        "\n",
        "#   #print(female[i], i)\n",
        "#   x = female[i].split()[:2]\n",
        "  \n",
        "  \n",
        "#   if x[0] in ['mr', 'mrs', 'smt', 'mohd', 'shri', 'ms'] or len(x[0])<=2:\n",
        "#     female[i] = str(x[1]) if len(x)>=2 else ''\n",
        "#   else:\n",
        "#     female[i] = str(x[0])\n",
        "\n",
        "# for i in range(len(male)):\n",
        "\n",
        "\n",
        "#   #print(male[i], i)\n",
        "#   x = male[i].split()[:2]\n",
        "  \n",
        "  \n",
        "#   if x[0] in ['mr', 'mrs', 'smt', 'mohd', 'shri', 'ms'] or len(x[0])<=2:\n",
        "#     male[i] = str(x[1]) if len(x)>=2 else ''\n",
        "#   else:\n",
        "#     male[i] = str(x[0])"
      ],
      "execution_count": 0,
      "outputs": []
    },
    {
      "cell_type": "code",
      "metadata": {
        "id": "r_3kLfLH-IR5",
        "colab_type": "code",
        "colab": {}
      },
      "source": [
        "# fn1 = [] #unique names with majority use in gender\n",
        "# mn1 = [] #unique names with majority use in gender\n",
        "# cs = f + m\n",
        "# for i in list(set(cs)):\n",
        "#   if i=='':\n",
        "#     continue\n",
        "  \n",
        "#   if f.count(i) >= m.count(i):\n",
        "#     fn1.append(i)\n",
        "#   else:\n",
        "#     mn1.append(i)\n"
      ],
      "execution_count": 0,
      "outputs": []
    },
    {
      "cell_type": "code",
      "metadata": {
        "id": "ONMRbviV-U6k",
        "colab_type": "code",
        "colab": {}
      },
      "source": [
        "fn = [] #unique names with majority use in gender ex. male.count('rahul') = 5 and female.count('rahul') = 1...hence gender is male\n",
        "mn = [] #unique names with majority use in gender\n",
        "\n",
        "combined_gender = female + male\n",
        "for i in list(set(combined_gender)):\n",
        "  if i=='':\n",
        "    continue\n",
        "  i = \" \".join(i.split())\n",
        "  if female.count(i) >= male.count(i):\n",
        "    #i = \" \".join(i.split())\n",
        "    fn.append(i)\n",
        "  else:\n",
        "    mn.append(i)\n"
      ],
      "execution_count": 0,
      "outputs": []
    },
    {
      "cell_type": "code",
      "metadata": {
        "id": "z9CNO_8o_HZv",
        "colab_type": "code",
        "colab": {}
      },
      "source": [
        "# fn1 = list(set(fn1) - set(mn))\n",
        "# mn1 = list(set(mn1) - set(fn))"
      ],
      "execution_count": 0,
      "outputs": []
    },
    {
      "cell_type": "code",
      "metadata": {
        "id": "6ET-_T61Df50",
        "colab_type": "code",
        "outputId": "b0019603-8510-4cd1-da30-8205c7fc2ae7",
        "colab": {
          "base_uri": "https://localhost:8080/",
          "height": 34
        }
      },
      "source": [
        "female_names = fn #fn + fn1\n",
        "male_names = mn #mn + mn1\n",
        "\n",
        "len(female_names), len(male_names), len(set(female_names)), len(set(male_names))"
      ],
      "execution_count": 0,
      "outputs": [
        {
          "output_type": "execute_result",
          "data": {
            "text/plain": [
              "(3372, 3758, 3172, 3657)"
            ]
          },
          "metadata": {
            "tags": []
          },
          "execution_count": 14
        }
      ]
    },
    {
      "cell_type": "code",
      "metadata": {
        "id": "ZuUyJJFKKNEf",
        "colab_type": "code",
        "colab": {}
      },
      "source": [
        "unique_female_names = list(set(female_names))\n",
        "unique_male_names = list(set(male_names))"
      ],
      "execution_count": 0,
      "outputs": []
    },
    {
      "cell_type": "code",
      "metadata": {
        "id": "66J7ZxXDiczg",
        "colab_type": "code",
        "colab": {}
      },
      "source": [
        "unique_male_names = unique_male_names[:len(unique_female_names)]"
      ],
      "execution_count": 0,
      "outputs": []
    },
    {
      "cell_type": "code",
      "metadata": {
        "id": "YqqpDw4jiop6",
        "colab_type": "code",
        "outputId": "2b1d8bd7-86cb-4abe-c5f5-5443edaca8ec",
        "colab": {
          "base_uri": "https://localhost:8080/",
          "height": 34
        }
      },
      "source": [
        "len(unique_female_names), len(unique_male_names)"
      ],
      "execution_count": 0,
      "outputs": [
        {
          "output_type": "execute_result",
          "data": {
            "text/plain": [
              "(3372, 3372)"
            ]
          },
          "metadata": {
            "tags": []
          },
          "execution_count": 17
        }
      ]
    },
    {
      "cell_type": "code",
      "metadata": {
        "id": "ndKQL3hUn_Ss",
        "colab_type": "code",
        "outputId": "b955fd25-ea21-4788-ec00-4ef8ded97a8c",
        "colab": {
          "base_uri": "https://localhost:8080/",
          "height": 34
        }
      },
      "source": [
        "name_combines = unique_female_names + unique_male_names\n",
        "len(name_combines)"
      ],
      "execution_count": 0,
      "outputs": [
        {
          "output_type": "execute_result",
          "data": {
            "text/plain": [
              "6744"
            ]
          },
          "metadata": {
            "tags": []
          },
          "execution_count": 18
        }
      ]
    },
    {
      "cell_type": "code",
      "metadata": {
        "id": "C9mEUSB-BrxE",
        "colab_type": "code",
        "outputId": "20ec1e67-bc82-4b82-e947-6322f55f19b4",
        "colab": {
          "base_uri": "https://localhost:8080/",
          "height": 34
        }
      },
      "source": [
        "len(name_combines), len(set(name_combines)), len(unique_female_names), len(unique_male_names)\n",
        "\n"
      ],
      "execution_count": 0,
      "outputs": [
        {
          "output_type": "execute_result",
          "data": {
            "text/plain": [
              "(6744, 6468, 3372, 3372)"
            ]
          },
          "metadata": {
            "tags": []
          },
          "execution_count": 19
        }
      ]
    },
    {
      "cell_type": "code",
      "metadata": {
        "id": "4jSClYCZC8hA",
        "colab_type": "code",
        "colab": {}
      },
      "source": [
        "#unique_male_names.index('mohit')"
      ],
      "execution_count": 0,
      "outputs": []
    },
    {
      "cell_type": "code",
      "metadata": {
        "id": "TrkSFFsFB2j6",
        "colab_type": "code",
        "colab": {}
      },
      "source": [
        "f = [\"f\"]*len(unique_female_names)\n",
        "m = [\"m\"]*len(unique_male_names)\n",
        "m_or_f = f+m  #f should be at first"
      ],
      "execution_count": 0,
      "outputs": []
    },
    {
      "cell_type": "code",
      "metadata": {
        "id": "X6PIURFNCQKT",
        "colab_type": "code",
        "outputId": "d69c0d3a-b5dd-4577-92a4-dddd84e178a2",
        "colab": {
          "base_uri": "https://localhost:8080/",
          "height": 669
        }
      },
      "source": [
        "data_dict = {'name': name_combines, 'm_or_f': m_or_f}\n",
        "\n",
        "df = pd.DataFrame(data_dict)\n",
        "\n",
        "df.head(20)\n"
      ],
      "execution_count": 0,
      "outputs": [
        {
          "output_type": "execute_result",
          "data": {
            "text/html": [
              "<div>\n",
              "<style scoped>\n",
              "    .dataframe tbody tr th:only-of-type {\n",
              "        vertical-align: middle;\n",
              "    }\n",
              "\n",
              "    .dataframe tbody tr th {\n",
              "        vertical-align: top;\n",
              "    }\n",
              "\n",
              "    .dataframe thead th {\n",
              "        text-align: right;\n",
              "    }\n",
              "</style>\n",
              "<table border=\"1\" class=\"dataframe\">\n",
              "  <thead>\n",
              "    <tr style=\"text-align: right;\">\n",
              "      <th></th>\n",
              "      <th>name</th>\n",
              "      <th>m_or_f</th>\n",
              "    </tr>\n",
              "  </thead>\n",
              "  <tbody>\n",
              "    <tr>\n",
              "      <th>0</th>\n",
              "      <td>tarunnam</td>\n",
              "      <td>f</td>\n",
              "    </tr>\n",
              "    <tr>\n",
              "      <th>1</th>\n",
              "      <td>gytri</td>\n",
              "      <td>f</td>\n",
              "    </tr>\n",
              "    <tr>\n",
              "      <th>2</th>\n",
              "      <td>sima</td>\n",
              "      <td>f</td>\n",
              "    </tr>\n",
              "    <tr>\n",
              "      <th>3</th>\n",
              "      <td>balalia</td>\n",
              "      <td>f</td>\n",
              "    </tr>\n",
              "    <tr>\n",
              "      <th>4</th>\n",
              "      <td>ilma</td>\n",
              "      <td>f</td>\n",
              "    </tr>\n",
              "    <tr>\n",
              "      <th>5</th>\n",
              "      <td>shiya</td>\n",
              "      <td>f</td>\n",
              "    </tr>\n",
              "    <tr>\n",
              "      <th>6</th>\n",
              "      <td>rubi</td>\n",
              "      <td>f</td>\n",
              "    </tr>\n",
              "    <tr>\n",
              "      <th>7</th>\n",
              "      <td>munmun</td>\n",
              "      <td>f</td>\n",
              "    </tr>\n",
              "    <tr>\n",
              "      <th>8</th>\n",
              "      <td>salama</td>\n",
              "      <td>f</td>\n",
              "    </tr>\n",
              "    <tr>\n",
              "      <th>9</th>\n",
              "      <td>gunjan</td>\n",
              "      <td>f</td>\n",
              "    </tr>\n",
              "    <tr>\n",
              "      <th>10</th>\n",
              "      <td>suhana</td>\n",
              "      <td>f</td>\n",
              "    </tr>\n",
              "    <tr>\n",
              "      <th>11</th>\n",
              "      <td>kajal</td>\n",
              "      <td>f</td>\n",
              "    </tr>\n",
              "    <tr>\n",
              "      <th>12</th>\n",
              "      <td>shneha</td>\n",
              "      <td>f</td>\n",
              "    </tr>\n",
              "    <tr>\n",
              "      <th>13</th>\n",
              "      <td>manbhar</td>\n",
              "      <td>f</td>\n",
              "    </tr>\n",
              "    <tr>\n",
              "      <th>14</th>\n",
              "      <td>shekiba</td>\n",
              "      <td>f</td>\n",
              "    </tr>\n",
              "    <tr>\n",
              "      <th>15</th>\n",
              "      <td>pallvi</td>\n",
              "      <td>f</td>\n",
              "    </tr>\n",
              "    <tr>\n",
              "      <th>16</th>\n",
              "      <td>prwem</td>\n",
              "      <td>f</td>\n",
              "    </tr>\n",
              "    <tr>\n",
              "      <th>17</th>\n",
              "      <td>kaish</td>\n",
              "      <td>f</td>\n",
              "    </tr>\n",
              "    <tr>\n",
              "      <th>18</th>\n",
              "      <td>kachri</td>\n",
              "      <td>f</td>\n",
              "    </tr>\n",
              "    <tr>\n",
              "      <th>19</th>\n",
              "      <td>varsa</td>\n",
              "      <td>f</td>\n",
              "    </tr>\n",
              "  </tbody>\n",
              "</table>\n",
              "</div>"
            ],
            "text/plain": [
              "        name m_or_f\n",
              "0   tarunnam      f\n",
              "1      gytri      f\n",
              "2       sima      f\n",
              "3    balalia      f\n",
              "4       ilma      f\n",
              "5      shiya      f\n",
              "6       rubi      f\n",
              "7     munmun      f\n",
              "8     salama      f\n",
              "9     gunjan      f\n",
              "10    suhana      f\n",
              "11     kajal      f\n",
              "12    shneha      f\n",
              "13   manbhar      f\n",
              "14   shekiba      f\n",
              "15    pallvi      f\n",
              "16     prwem      f\n",
              "17     kaish      f\n",
              "18    kachri      f\n",
              "19     varsa      f"
            ]
          },
          "metadata": {
            "tags": []
          },
          "execution_count": 22
        }
      ]
    },
    {
      "cell_type": "code",
      "metadata": {
        "id": "t_DJl2Ou_ZA7",
        "colab_type": "code",
        "colab": {}
      },
      "source": [
        "# df['label'] = df['m_or_f'].apply(lambda x: 1 if x == 'f' else 0)"
      ],
      "execution_count": 0,
      "outputs": []
    },
    {
      "cell_type": "code",
      "metadata": {
        "id": "E7u8dl3w_gbB",
        "colab_type": "code",
        "colab": {}
      },
      "source": [
        "# df = df[['name', 'label']].sample(frac=1)"
      ],
      "execution_count": 0,
      "outputs": []
    },
    {
      "cell_type": "code",
      "metadata": {
        "id": "aga5hzce_g4o",
        "colab_type": "code",
        "colab": {}
      },
      "source": [
        "# !pip install phonetics\n",
        "# import phonetics\n",
        "# df['vowel_ending'] = df['name'].apply(lambda x: x[-1].lower() in set('aeiouy'))\n",
        "# df['last'] = df['name'].apply(lambda x: x[-1].lower())\n",
        "# #df['last_allit'] = df['name'].apply(lambda x: x[-1] == x[-2])\n",
        "# df['phonetics'] = df['name'].apply(lambda x: phonetics.metaphone(x))"
      ],
      "execution_count": 0,
      "outputs": []
    },
    {
      "cell_type": "code",
      "metadata": {
        "id": "LIEg8xneDLOV",
        "colab_type": "code",
        "colab": {}
      },
      "source": [
        "export_csv = df.to_csv ('gender_data.csv', index = None)"
      ],
      "execution_count": 0,
      "outputs": []
    },
    {
      "cell_type": "code",
      "metadata": {
        "id": "cepIVS6D_qV1",
        "colab_type": "code",
        "colab": {}
      },
      "source": [
        "input_dataframe = pd.read_csv(\"gender_data.csv\",header=None)\n",
        "input_dataframe.columns = ['name','m_or_f']\n",
        "input_dataframe['namelen']= [len(str(i)) for i in input_dataframe['name']]\n",
        "input1 = input_dataframe[(input_dataframe['namelen'] >= 2) ]"
      ],
      "execution_count": 0,
      "outputs": []
    },
    {
      "cell_type": "code",
      "metadata": {
        "id": "q2oA9biRZWyP",
        "colab_type": "code",
        "outputId": "5e47f633-3ade-488a-98f0-1508a38c47ac",
        "colab": {
          "base_uri": "https://localhost:8080/",
          "height": 204
        }
      },
      "source": [
        "input1.head()"
      ],
      "execution_count": 0,
      "outputs": [
        {
          "output_type": "execute_result",
          "data": {
            "text/html": [
              "<div>\n",
              "<style scoped>\n",
              "    .dataframe tbody tr th:only-of-type {\n",
              "        vertical-align: middle;\n",
              "    }\n",
              "\n",
              "    .dataframe tbody tr th {\n",
              "        vertical-align: top;\n",
              "    }\n",
              "\n",
              "    .dataframe thead th {\n",
              "        text-align: right;\n",
              "    }\n",
              "</style>\n",
              "<table border=\"1\" class=\"dataframe\">\n",
              "  <thead>\n",
              "    <tr style=\"text-align: right;\">\n",
              "      <th></th>\n",
              "      <th>name</th>\n",
              "      <th>m_or_f</th>\n",
              "      <th>namelen</th>\n",
              "    </tr>\n",
              "  </thead>\n",
              "  <tbody>\n",
              "    <tr>\n",
              "      <th>0</th>\n",
              "      <td>name</td>\n",
              "      <td>m_or_f</td>\n",
              "      <td>4</td>\n",
              "    </tr>\n",
              "    <tr>\n",
              "      <th>1</th>\n",
              "      <td>tarunnam</td>\n",
              "      <td>f</td>\n",
              "      <td>8</td>\n",
              "    </tr>\n",
              "    <tr>\n",
              "      <th>2</th>\n",
              "      <td>gytri</td>\n",
              "      <td>f</td>\n",
              "      <td>5</td>\n",
              "    </tr>\n",
              "    <tr>\n",
              "      <th>3</th>\n",
              "      <td>sima</td>\n",
              "      <td>f</td>\n",
              "      <td>4</td>\n",
              "    </tr>\n",
              "    <tr>\n",
              "      <th>4</th>\n",
              "      <td>balalia</td>\n",
              "      <td>f</td>\n",
              "      <td>7</td>\n",
              "    </tr>\n",
              "  </tbody>\n",
              "</table>\n",
              "</div>"
            ],
            "text/plain": [
              "       name  m_or_f  namelen\n",
              "0      name  m_or_f        4\n",
              "1  tarunnam       f        8\n",
              "2     gytri       f        5\n",
              "3      sima       f        4\n",
              "4   balalia       f        7"
            ]
          },
          "metadata": {
            "tags": []
          },
          "execution_count": 28
        }
      ]
    },
    {
      "cell_type": "code",
      "metadata": {
        "id": "MuZExbPxblNN",
        "colab_type": "code",
        "colab": {}
      },
      "source": [
        "input1 = input1.iloc[1:]\n",
        "#input1['vowel_ending'] = input1['vowel_ending'].apply(lambda x: x.lower())\n"
      ],
      "execution_count": 0,
      "outputs": []
    },
    {
      "cell_type": "code",
      "metadata": {
        "id": "0BkJWMH7hF5j",
        "colab_type": "code",
        "colab": {}
      },
      "source": [
        "# input1['name'] = input1['name'] + input1['phonetics']\n",
        "# input1.head()"
      ],
      "execution_count": 0,
      "outputs": []
    },
    {
      "cell_type": "code",
      "metadata": {
        "id": "ao_OMwzl_qV_",
        "colab_type": "code",
        "colab": {}
      },
      "source": [
        "names = input_dataframe['name']\n",
        "gender = input_dataframe['m_or_f']\n",
        "#phonetics = input1['phonetics']\n",
        "vocab = list(' '.join([unicodeToAscii(str(i)) for i in names]))\n",
        "#vocab1 = list(' '.join([unicodeToAscii(str(i)) for i in phonetics]))\n",
        "vocab = set(vocab)\n",
        "vocab.add('END')\n",
        "# vocab.add('VOWEL')\n",
        "# vocab.add('LAST')\n",
        "\n",
        "len_vocab = len(vocab)"
      ],
      "execution_count": 0,
      "outputs": []
    },
    {
      "cell_type": "code",
      "metadata": {
        "id": "uqydnwv2_qWC",
        "colab_type": "code",
        "outputId": "426f400a-329e-4cc5-de67-678ddbd57031",
        "colab": {
          "base_uri": "https://localhost:8080/",
          "height": 88
        }
      },
      "source": [
        "print(vocab)\n",
        "print(\"vocab length is \",len_vocab)\n",
        "print (\"length of input is \",len(input1))"
      ],
      "execution_count": 0,
      "outputs": [
        {
          "output_type": "stream",
          "text": [
            "{'a', 'i', 'k', 'v', 'c', 'h', 'n', 'l', 'r', 'f', 's', 'q', 'END', 'x', 't', ' ', 'd', 'j', 'm', 'g', 'y', 'u', 'o', 'e', 'b', 'z', 'p', 'w'}\n",
            "vocab length is  28\n",
            "length of input is  6733\n"
          ],
          "name": "stdout"
        }
      ]
    },
    {
      "cell_type": "code",
      "metadata": {
        "id": "cL5BkUQq_qWE",
        "colab_type": "code",
        "colab": {}
      },
      "source": [
        "char_index = dict((c, i) for i, c in enumerate(vocab))"
      ],
      "execution_count": 0,
      "outputs": []
    },
    {
      "cell_type": "code",
      "metadata": {
        "id": "Jj4iBppb_qWH",
        "colab_type": "code",
        "colab": {}
      },
      "source": [
        "# char_index['0'] = 29\n",
        "# print(char_index)\n"
      ],
      "execution_count": 0,
      "outputs": []
    },
    {
      "cell_type": "code",
      "metadata": {
        "id": "av1mz6fh_qWJ",
        "colab_type": "code",
        "colab": {}
      },
      "source": [
        "#train test split\n",
        "msk = np.random.rand(len(input1)) < 0.8\n",
        "train = input1[msk]\n",
        "test = input1[~msk]     "
      ],
      "execution_count": 0,
      "outputs": []
    },
    {
      "cell_type": "code",
      "metadata": {
        "id": "2R-wCAXQ0oOk",
        "colab_type": "code",
        "outputId": "1c1b3419-d9d4-4ef6-f00c-8060bb531cc5",
        "colab": {
          "base_uri": "https://localhost:8080/",
          "height": 34
        }
      },
      "source": [
        "len(train), len(test)"
      ],
      "execution_count": 0,
      "outputs": [
        {
          "output_type": "execute_result",
          "data": {
            "text/plain": [
              "(5358, 1375)"
            ]
          },
          "metadata": {
            "tags": []
          },
          "execution_count": 35
        }
      ]
    },
    {
      "cell_type": "code",
      "metadata": {
        "id": "bU8Km85I_qWR",
        "colab_type": "code",
        "colab": {}
      },
      "source": [
        "def set_flag(i):\n",
        "    tmp = np.zeros(len(vocab));\n",
        "    tmp[i] = 1\n",
        "    return(tmp)"
      ],
      "execution_count": 0,
      "outputs": []
    },
    {
      "cell_type": "code",
      "metadata": {
        "id": "F9J8WMFb_qWM",
        "colab_type": "code",
        "colab": {}
      },
      "source": [
        "#take input upto max and truncate rest\n",
        "#encode to vector space(one hot encoding)\n",
        "#padd 'END' to shorter sequences\n",
        "train_X = []\n",
        "trunc_train_name = [str(i)[0:maxlen] for i in train.name]\n",
        "for i in trunc_train_name:\n",
        "    i = \" \".join(i.split())\n",
        "    tmp = [set_flag(char_index[j]) for j in str(i)]\n",
        "    for k in range(0,maxlen - len(str(i))):\n",
        "        tmp.append(set_flag(char_index[\"END\"]))\n",
        "    train_X.append(tmp)\n"
      ],
      "execution_count": 0,
      "outputs": []
    },
    {
      "cell_type": "code",
      "metadata": {
        "id": "Iot-obHv_qWO",
        "colab_type": "code",
        "outputId": "44ec6448-7ad9-4c0b-a0a0-2db7f096e405",
        "colab": {
          "base_uri": "https://localhost:8080/",
          "height": 34
        }
      },
      "source": [
        "np.asarray(train_X).shape"
      ],
      "execution_count": 0,
      "outputs": [
        {
          "output_type": "execute_result",
          "data": {
            "text/plain": [
              "(5358, 25, 28)"
            ]
          },
          "metadata": {
            "tags": []
          },
          "execution_count": 38
        }
      ]
    },
    {
      "cell_type": "code",
      "metadata": {
        "id": "l8TilNcO_qWT",
        "colab_type": "code",
        "colab": {}
      },
      "source": [
        "# set_flag(3)"
      ],
      "execution_count": 0,
      "outputs": []
    },
    {
      "cell_type": "markdown",
      "metadata": {
        "id": "EI9hSU9__qWW",
        "colab_type": "text"
      },
      "source": [
        "#### modify the code above to also convert each index to one-hot encoded representation"
      ]
    },
    {
      "cell_type": "code",
      "metadata": {
        "id": "sPkcaSht_qWX",
        "colab_type": "code",
        "colab": {}
      },
      "source": [
        "#take input upto max and truncate rest\n",
        "#encode to vector space(one hot encoding)\n",
        "#padd 'END' to shorter sequences\n",
        "#also convert each index to one-hot encoding\n",
        "train_X = []\n",
        "train_Y = []\n",
        "trunc_train_name = [str(i)[0:maxlen] for i in train.name]\n",
        "for i in trunc_train_name:\n",
        "    tmp = [set_flag(char_index[j]) for j in str(i)]\n",
        "    for k in range(0,maxlen - len(str(i))):\n",
        "        tmp.append(set_flag(char_index[\"END\"]))\n",
        "    tmp = np.array(tmp)\n",
        "    train_X.append(tmp)\n",
        "for i in train.m_or_f:\n",
        "    if i == 'm':\n",
        "        train_Y.append([1,0])\n",
        "    else:\n",
        "        train_Y.append([0,1])\n",
        "    "
      ],
      "execution_count": 0,
      "outputs": []
    },
    {
      "cell_type": "code",
      "metadata": {
        "id": "17tpF8jU_qWZ",
        "colab_type": "code",
        "colab": {}
      },
      "source": [
        "# np.asarray(train_X).shape"
      ],
      "execution_count": 0,
      "outputs": []
    },
    {
      "cell_type": "code",
      "metadata": {
        "id": "lJmcjtJ3_qWc",
        "colab_type": "code",
        "colab": {}
      },
      "source": [
        "# np.asarray(train_Y).shape"
      ],
      "execution_count": 0,
      "outputs": []
    },
    {
      "cell_type": "markdown",
      "metadata": {
        "id": "P_7HXWa0_qWf",
        "colab_type": "text"
      },
      "source": [
        "#### build model in keras ( a stacked LSTM model with many-to-one arch ) here 30 sequence and 2 output each for one category(m/f)"
      ]
    },
    {
      "cell_type": "code",
      "metadata": {
        "id": "e706AFNk_qWg",
        "colab_type": "code",
        "outputId": "3e1eb492-4123-4782-a73b-3567de76129f",
        "colab": {
          "base_uri": "https://localhost:8080/",
          "height": 309
        }
      },
      "source": [
        "#build the model: 2 stacked LSTM\n",
        "\n",
        "hidden_nodes = int(2/3 * (maxlen * len_vocab))\n",
        "print('Build model...')\n",
        "model = Sequential()\n",
        "\n",
        "model.add(LSTM(hidden_nodes, return_sequences=True, input_shape=(maxlen,len_vocab)))\n",
        "model.add(Dropout(0.2))\n",
        "\n",
        "model.add(LSTM(hidden_nodes, return_sequences=False))\n",
        "model.add(Dropout(0.2))\n",
        "\n",
        "#model.add(Flatten())\n",
        "model.add(Dense(2))\n",
        "model.add(Activation('softmax'))\n",
        "\n",
        "#from keras import optimizers\n",
        "#sgd = optimizers.SGD(lr=0.01, decay=1e-6, momentum=0.9, nesterov=True)\n",
        "model.compile(loss='categorical_crossentropy', optimizer='adam',metrics=['accuracy'])"
      ],
      "execution_count": 0,
      "outputs": [
        {
          "output_type": "stream",
          "text": [
            "Build model...\n",
            "WARNING:tensorflow:From /usr/local/lib/python3.6/dist-packages/keras/backend/tensorflow_backend.py:66: The name tf.get_default_graph is deprecated. Please use tf.compat.v1.get_default_graph instead.\n",
            "\n",
            "WARNING:tensorflow:From /usr/local/lib/python3.6/dist-packages/keras/backend/tensorflow_backend.py:541: The name tf.placeholder is deprecated. Please use tf.compat.v1.placeholder instead.\n",
            "\n",
            "WARNING:tensorflow:From /usr/local/lib/python3.6/dist-packages/keras/backend/tensorflow_backend.py:4432: The name tf.random_uniform is deprecated. Please use tf.random.uniform instead.\n",
            "\n",
            "WARNING:tensorflow:From /usr/local/lib/python3.6/dist-packages/keras/backend/tensorflow_backend.py:148: The name tf.placeholder_with_default is deprecated. Please use tf.compat.v1.placeholder_with_default instead.\n",
            "\n",
            "WARNING:tensorflow:From /usr/local/lib/python3.6/dist-packages/keras/backend/tensorflow_backend.py:3733: calling dropout (from tensorflow.python.ops.nn_ops) with keep_prob is deprecated and will be removed in a future version.\n",
            "Instructions for updating:\n",
            "Please use `rate` instead of `keep_prob`. Rate should be set to `rate = 1 - keep_prob`.\n",
            "WARNING:tensorflow:From /usr/local/lib/python3.6/dist-packages/keras/optimizers.py:793: The name tf.train.Optimizer is deprecated. Please use tf.compat.v1.train.Optimizer instead.\n",
            "\n",
            "WARNING:tensorflow:From /usr/local/lib/python3.6/dist-packages/keras/backend/tensorflow_backend.py:3576: The name tf.log is deprecated. Please use tf.math.log instead.\n",
            "\n"
          ],
          "name": "stdout"
        }
      ]
    },
    {
      "cell_type": "code",
      "metadata": {
        "id": "y7yAWMDSOiAZ",
        "colab_type": "code",
        "outputId": "7eb899b8-938b-4574-ac42-713de4bb4b43",
        "colab": {
          "base_uri": "https://localhost:8080/",
          "height": 357
        }
      },
      "source": [
        "model.summary()"
      ],
      "execution_count": 0,
      "outputs": [
        {
          "output_type": "stream",
          "text": [
            "Model: \"sequential_1\"\n",
            "_________________________________________________________________\n",
            "Layer (type)                 Output Shape              Param #   \n",
            "=================================================================\n",
            "lstm_1 (LSTM)                (None, 25, 466)           922680    \n",
            "_________________________________________________________________\n",
            "dropout_1 (Dropout)          (None, 25, 466)           0         \n",
            "_________________________________________________________________\n",
            "lstm_2 (LSTM)                (None, 466)               1739112   \n",
            "_________________________________________________________________\n",
            "dropout_2 (Dropout)          (None, 466)               0         \n",
            "_________________________________________________________________\n",
            "dense_1 (Dense)              (None, 2)                 934       \n",
            "_________________________________________________________________\n",
            "activation_1 (Activation)    (None, 2)                 0         \n",
            "=================================================================\n",
            "Total params: 2,662,726\n",
            "Trainable params: 2,662,726\n",
            "Non-trainable params: 0\n",
            "_________________________________________________________________\n"
          ],
          "name": "stdout"
        }
      ]
    },
    {
      "cell_type": "code",
      "metadata": {
        "id": "9MEpXe80_qWi",
        "colab_type": "code",
        "colab": {}
      },
      "source": [
        "test_X = []\n",
        "test_Y = []\n",
        "trunc_test_name = [str(i)[0:maxlen] for i in test.name]\n",
        "for i in trunc_test_name:\n",
        "    tmp = [set_flag(char_index[j]) for j in str(i)]\n",
        "    for k in range(0,maxlen - len(str(i))):\n",
        "        tmp.append(set_flag(char_index[\"END\"]))\n",
        "    tmp = np.array(tmp)\n",
        "    shape = tmp.shape\n",
        "    tmp.reshape([1, shape[0], shape[1]])\n",
        "    test_X.append(tmp)\n",
        "for i in test.m_or_f:\n",
        "    if i == 'm':\n",
        "        test_Y.append([1,0])\n",
        "    else:\n",
        "        test_Y.append([0,1])\n",
        "    "
      ],
      "execution_count": 0,
      "outputs": []
    },
    {
      "cell_type": "code",
      "metadata": {
        "id": "sU6XDUlw_qWm",
        "colab_type": "code",
        "outputId": "39fc859e-a688-4896-f8bd-952063fed8e4",
        "colab": {
          "base_uri": "https://localhost:8080/",
          "height": 51
        }
      },
      "source": [
        "print(np.asarray(test_X).shape)\n",
        "print(np.asarray(test_Y).shape)"
      ],
      "execution_count": 0,
      "outputs": [
        {
          "output_type": "stream",
          "text": [
            "(1375, 25, 28)\n",
            "(1375, 2)\n"
          ],
          "name": "stdout"
        }
      ]
    },
    {
      "cell_type": "code",
      "metadata": {
        "id": "xNK96CI2_qWt",
        "colab_type": "code",
        "outputId": "1ff519cc-4d5f-4e8f-ba39-607a0512b427",
        "colab": {
          "base_uri": "https://localhost:8080/",
          "height": 1000
        }
      },
      "source": [
        "train_X = np.array(train_X)\n",
        "train_Y = np.array(train_Y)\n",
        "test_X = np.array(test_X)\n",
        "test_Y = np.array(test_Y)\n",
        "batch_size=1000\n",
        "model.fit(train_X, train_Y,batch_size=batch_size,nb_epoch=70,validation_data=(test_X, test_Y))"
      ],
      "execution_count": 0,
      "outputs": [
        {
          "output_type": "stream",
          "text": [
            "WARNING:tensorflow:From /usr/local/lib/python3.6/dist-packages/tensorflow_core/python/ops/math_grad.py:1424: where (from tensorflow.python.ops.array_ops) is deprecated and will be removed in a future version.\n",
            "Instructions for updating:\n",
            "Use tf.where in 2.0, which has the same broadcast rule as np.where\n"
          ],
          "name": "stdout"
        },
        {
          "output_type": "stream",
          "text": [
            "/usr/local/lib/python3.6/dist-packages/ipykernel_launcher.py:6: UserWarning: The `nb_epoch` argument in `fit` has been renamed `epochs`.\n",
            "  \n"
          ],
          "name": "stderr"
        },
        {
          "output_type": "stream",
          "text": [
            "WARNING:tensorflow:From /usr/local/lib/python3.6/dist-packages/keras/backend/tensorflow_backend.py:1033: The name tf.assign_add is deprecated. Please use tf.compat.v1.assign_add instead.\n",
            "\n",
            "WARNING:tensorflow:From /usr/local/lib/python3.6/dist-packages/keras/backend/tensorflow_backend.py:1020: The name tf.assign is deprecated. Please use tf.compat.v1.assign instead.\n",
            "\n",
            "WARNING:tensorflow:From /usr/local/lib/python3.6/dist-packages/keras/backend/tensorflow_backend.py:3005: The name tf.Session is deprecated. Please use tf.compat.v1.Session instead.\n",
            "\n",
            "Train on 5358 samples, validate on 1375 samples\n",
            "Epoch 1/70\n",
            "WARNING:tensorflow:From /usr/local/lib/python3.6/dist-packages/keras/backend/tensorflow_backend.py:190: The name tf.get_default_session is deprecated. Please use tf.compat.v1.get_default_session instead.\n",
            "\n",
            "WARNING:tensorflow:From /usr/local/lib/python3.6/dist-packages/keras/backend/tensorflow_backend.py:197: The name tf.ConfigProto is deprecated. Please use tf.compat.v1.ConfigProto instead.\n",
            "\n",
            "WARNING:tensorflow:From /usr/local/lib/python3.6/dist-packages/keras/backend/tensorflow_backend.py:207: The name tf.global_variables is deprecated. Please use tf.compat.v1.global_variables instead.\n",
            "\n",
            "WARNING:tensorflow:From /usr/local/lib/python3.6/dist-packages/keras/backend/tensorflow_backend.py:216: The name tf.is_variable_initialized is deprecated. Please use tf.compat.v1.is_variable_initialized instead.\n",
            "\n",
            "WARNING:tensorflow:From /usr/local/lib/python3.6/dist-packages/keras/backend/tensorflow_backend.py:223: The name tf.variables_initializer is deprecated. Please use tf.compat.v1.variables_initializer instead.\n",
            "\n",
            "5358/5358 [==============================] - 12s 2ms/step - loss: 0.6978 - acc: 0.4983 - val_loss: 0.6948 - val_acc: 0.4975\n",
            "Epoch 2/70\n",
            "5358/5358 [==============================] - 1s 220us/step - loss: 0.6942 - acc: 0.4944 - val_loss: 0.6927 - val_acc: 0.5025\n",
            "Epoch 3/70\n",
            "5358/5358 [==============================] - 1s 218us/step - loss: 0.6912 - acc: 0.5468 - val_loss: 0.6815 - val_acc: 0.5905\n",
            "Epoch 4/70\n",
            "5358/5358 [==============================] - 1s 221us/step - loss: 0.6760 - acc: 0.5911 - val_loss: 0.6818 - val_acc: 0.6320\n",
            "Epoch 5/70\n",
            "5358/5358 [==============================] - 1s 222us/step - loss: 0.6833 - acc: 0.5750 - val_loss: 0.6781 - val_acc: 0.6131\n",
            "Epoch 6/70\n",
            "5358/5358 [==============================] - 1s 223us/step - loss: 0.6626 - acc: 0.6297 - val_loss: 0.6724 - val_acc: 0.5505\n",
            "Epoch 7/70\n",
            "5358/5358 [==============================] - 1s 219us/step - loss: 0.6462 - acc: 0.6269 - val_loss: 0.6593 - val_acc: 0.6255\n",
            "Epoch 8/70\n",
            "5358/5358 [==============================] - 1s 219us/step - loss: 0.6249 - acc: 0.6579 - val_loss: 0.6315 - val_acc: 0.6298\n",
            "Epoch 9/70\n",
            "5358/5358 [==============================] - 1s 220us/step - loss: 0.6210 - acc: 0.6652 - val_loss: 0.5975 - val_acc: 0.6684\n",
            "Epoch 10/70\n",
            "5358/5358 [==============================] - 1s 222us/step - loss: 0.5961 - acc: 0.6934 - val_loss: 0.6072 - val_acc: 0.6764\n",
            "Epoch 11/70\n",
            "5358/5358 [==============================] - 1s 221us/step - loss: 0.5850 - acc: 0.6993 - val_loss: 0.5573 - val_acc: 0.7156\n",
            "Epoch 12/70\n",
            "5358/5358 [==============================] - 1s 222us/step - loss: 0.5571 - acc: 0.7260 - val_loss: 0.5746 - val_acc: 0.7025\n",
            "Epoch 13/70\n",
            "5358/5358 [==============================] - 1s 220us/step - loss: 0.5585 - acc: 0.7297 - val_loss: 0.5422 - val_acc: 0.7418\n",
            "Epoch 14/70\n",
            "5358/5358 [==============================] - 1s 219us/step - loss: 0.5530 - acc: 0.7307 - val_loss: 0.5478 - val_acc: 0.7280\n",
            "Epoch 15/70\n",
            "5358/5358 [==============================] - 1s 219us/step - loss: 0.5533 - acc: 0.7355 - val_loss: 0.5385 - val_acc: 0.7425\n",
            "Epoch 16/70\n",
            "5358/5358 [==============================] - 1s 222us/step - loss: 0.5315 - acc: 0.7471 - val_loss: 0.5331 - val_acc: 0.7476\n",
            "Epoch 17/70\n",
            "5358/5358 [==============================] - 1s 224us/step - loss: 0.5270 - acc: 0.7535 - val_loss: 0.5233 - val_acc: 0.7549\n",
            "Epoch 18/70\n",
            "5358/5358 [==============================] - 1s 220us/step - loss: 0.5225 - acc: 0.7508 - val_loss: 0.5445 - val_acc: 0.7382\n",
            "Epoch 19/70\n",
            "5358/5358 [==============================] - 1s 221us/step - loss: 0.5199 - acc: 0.7585 - val_loss: 0.5047 - val_acc: 0.7665\n",
            "Epoch 20/70\n",
            "5358/5358 [==============================] - 1s 222us/step - loss: 0.5012 - acc: 0.7665 - val_loss: 0.5011 - val_acc: 0.7796\n",
            "Epoch 21/70\n",
            "5358/5358 [==============================] - 1s 224us/step - loss: 0.4974 - acc: 0.7712 - val_loss: 0.5050 - val_acc: 0.7789\n",
            "Epoch 22/70\n",
            "5358/5358 [==============================] - 1s 221us/step - loss: 0.4996 - acc: 0.7714 - val_loss: 0.4921 - val_acc: 0.7753\n",
            "Epoch 23/70\n",
            "5358/5358 [==============================] - 1s 223us/step - loss: 0.4918 - acc: 0.7798 - val_loss: 0.4937 - val_acc: 0.7840\n",
            "Epoch 24/70\n",
            "5358/5358 [==============================] - 1s 223us/step - loss: 0.4924 - acc: 0.7798 - val_loss: 0.5099 - val_acc: 0.7615\n",
            "Epoch 25/70\n",
            "5358/5358 [==============================] - 1s 223us/step - loss: 0.4747 - acc: 0.7878 - val_loss: 0.4833 - val_acc: 0.7884\n",
            "Epoch 26/70\n",
            "5358/5358 [==============================] - 1s 222us/step - loss: 0.4708 - acc: 0.7932 - val_loss: 0.4764 - val_acc: 0.7876\n",
            "Epoch 27/70\n",
            "5358/5358 [==============================] - 1s 224us/step - loss: 0.4698 - acc: 0.7900 - val_loss: 0.4666 - val_acc: 0.7956\n",
            "Epoch 28/70\n",
            "5358/5358 [==============================] - 1s 223us/step - loss: 0.4669 - acc: 0.7923 - val_loss: 0.4735 - val_acc: 0.7833\n",
            "Epoch 29/70\n",
            "5358/5358 [==============================] - 1s 224us/step - loss: 0.4612 - acc: 0.7938 - val_loss: 0.4659 - val_acc: 0.7978\n",
            "Epoch 30/70\n",
            "5358/5358 [==============================] - 1s 223us/step - loss: 0.4650 - acc: 0.7984 - val_loss: 0.4738 - val_acc: 0.7942\n",
            "Epoch 31/70\n",
            "5358/5358 [==============================] - 1s 226us/step - loss: 0.4659 - acc: 0.7930 - val_loss: 0.4666 - val_acc: 0.8029\n",
            "Epoch 32/70\n",
            "5358/5358 [==============================] - 1s 222us/step - loss: 0.4509 - acc: 0.8001 - val_loss: 0.4807 - val_acc: 0.7818\n",
            "Epoch 33/70\n",
            "5358/5358 [==============================] - 1s 223us/step - loss: 0.4517 - acc: 0.8027 - val_loss: 0.4760 - val_acc: 0.7884\n",
            "Epoch 34/70\n",
            "5358/5358 [==============================] - 1s 225us/step - loss: 0.4483 - acc: 0.8035 - val_loss: 0.4834 - val_acc: 0.7753\n",
            "Epoch 35/70\n",
            "5358/5358 [==============================] - 1s 224us/step - loss: 0.4582 - acc: 0.7923 - val_loss: 0.4784 - val_acc: 0.7884\n",
            "Epoch 36/70\n",
            "5358/5358 [==============================] - 1s 225us/step - loss: 0.4541 - acc: 0.7986 - val_loss: 0.4774 - val_acc: 0.7942\n",
            "Epoch 37/70\n",
            "5358/5358 [==============================] - 1s 226us/step - loss: 0.4516 - acc: 0.8076 - val_loss: 0.4648 - val_acc: 0.7956\n",
            "Epoch 38/70\n",
            "5358/5358 [==============================] - 1s 226us/step - loss: 0.4456 - acc: 0.8094 - val_loss: 0.4548 - val_acc: 0.8015\n",
            "Epoch 39/70\n",
            "5358/5358 [==============================] - 1s 227us/step - loss: 0.4407 - acc: 0.8072 - val_loss: 0.4557 - val_acc: 0.8044\n",
            "Epoch 40/70\n",
            "5358/5358 [==============================] - 1s 229us/step - loss: 0.4414 - acc: 0.8089 - val_loss: 0.4901 - val_acc: 0.7869\n",
            "Epoch 41/70\n",
            "5358/5358 [==============================] - 1s 228us/step - loss: 0.4464 - acc: 0.8074 - val_loss: 0.4570 - val_acc: 0.7993\n",
            "Epoch 42/70\n",
            "5358/5358 [==============================] - 1s 229us/step - loss: 0.4414 - acc: 0.8076 - val_loss: 0.4539 - val_acc: 0.8029\n",
            "Epoch 43/70\n",
            "5358/5358 [==============================] - 1s 229us/step - loss: 0.4278 - acc: 0.8137 - val_loss: 0.4567 - val_acc: 0.8044\n",
            "Epoch 44/70\n",
            "5358/5358 [==============================] - 1s 228us/step - loss: 0.4295 - acc: 0.8108 - val_loss: 0.4574 - val_acc: 0.8051\n",
            "Epoch 45/70\n",
            "5358/5358 [==============================] - 1s 229us/step - loss: 0.4237 - acc: 0.8195 - val_loss: 0.4676 - val_acc: 0.8015\n",
            "Epoch 46/70\n",
            "5358/5358 [==============================] - 1s 225us/step - loss: 0.4255 - acc: 0.8150 - val_loss: 0.4490 - val_acc: 0.8029\n",
            "Epoch 47/70\n",
            "5358/5358 [==============================] - 1s 228us/step - loss: 0.4149 - acc: 0.8229 - val_loss: 0.4475 - val_acc: 0.8087\n",
            "Epoch 48/70\n",
            "5358/5358 [==============================] - 1s 228us/step - loss: 0.4184 - acc: 0.8178 - val_loss: 0.4585 - val_acc: 0.8065\n",
            "Epoch 49/70\n",
            "5358/5358 [==============================] - 1s 227us/step - loss: 0.4165 - acc: 0.8214 - val_loss: 0.4467 - val_acc: 0.8044\n",
            "Epoch 50/70\n",
            "5358/5358 [==============================] - 1s 226us/step - loss: 0.4103 - acc: 0.8249 - val_loss: 0.4434 - val_acc: 0.8175\n",
            "Epoch 51/70\n",
            "5358/5358 [==============================] - 1s 227us/step - loss: 0.4015 - acc: 0.8275 - val_loss: 0.4463 - val_acc: 0.8080\n",
            "Epoch 52/70\n",
            "5358/5358 [==============================] - 1s 225us/step - loss: 0.3966 - acc: 0.8317 - val_loss: 0.4562 - val_acc: 0.8065\n",
            "Epoch 53/70\n",
            "5358/5358 [==============================] - 1s 226us/step - loss: 0.3996 - acc: 0.8320 - val_loss: 0.4409 - val_acc: 0.8116\n",
            "Epoch 54/70\n",
            "5358/5358 [==============================] - 1s 228us/step - loss: 0.3938 - acc: 0.8272 - val_loss: 0.4538 - val_acc: 0.7978\n",
            "Epoch 55/70\n",
            "5358/5358 [==============================] - 1s 227us/step - loss: 0.3996 - acc: 0.8315 - val_loss: 0.4537 - val_acc: 0.7971\n",
            "Epoch 56/70\n",
            "5358/5358 [==============================] - 1s 228us/step - loss: 0.4008 - acc: 0.8227 - val_loss: 0.4542 - val_acc: 0.7993\n",
            "Epoch 57/70\n",
            "5358/5358 [==============================] - 1s 228us/step - loss: 0.3996 - acc: 0.8287 - val_loss: 0.4609 - val_acc: 0.8058\n",
            "Epoch 58/70\n",
            "5358/5358 [==============================] - 1s 228us/step - loss: 0.3919 - acc: 0.8346 - val_loss: 0.4562 - val_acc: 0.8080\n",
            "Epoch 59/70\n",
            "5358/5358 [==============================] - 1s 230us/step - loss: 0.3864 - acc: 0.8367 - val_loss: 0.4654 - val_acc: 0.7855\n",
            "Epoch 60/70\n",
            "5358/5358 [==============================] - 1s 229us/step - loss: 0.3912 - acc: 0.8361 - val_loss: 0.4537 - val_acc: 0.7993\n",
            "Epoch 61/70\n",
            "5358/5358 [==============================] - 1s 228us/step - loss: 0.3966 - acc: 0.8244 - val_loss: 0.4526 - val_acc: 0.8073\n",
            "Epoch 62/70\n",
            "5358/5358 [==============================] - 1s 228us/step - loss: 0.3745 - acc: 0.8373 - val_loss: 0.4492 - val_acc: 0.8044\n",
            "Epoch 63/70\n",
            "5358/5358 [==============================] - 1s 229us/step - loss: 0.3792 - acc: 0.8393 - val_loss: 0.4404 - val_acc: 0.8145\n",
            "Epoch 64/70\n",
            "5358/5358 [==============================] - 1s 227us/step - loss: 0.3678 - acc: 0.8451 - val_loss: 0.4502 - val_acc: 0.8131\n",
            "Epoch 65/70\n",
            "5358/5358 [==============================] - 1s 231us/step - loss: 0.3639 - acc: 0.8457 - val_loss: 0.4402 - val_acc: 0.8167\n",
            "Epoch 66/70\n",
            "5358/5358 [==============================] - 1s 231us/step - loss: 0.3632 - acc: 0.8473 - val_loss: 0.4454 - val_acc: 0.8153\n",
            "Epoch 67/70\n",
            "5358/5358 [==============================] - 1s 228us/step - loss: 0.3609 - acc: 0.8427 - val_loss: 0.4583 - val_acc: 0.8116\n",
            "Epoch 68/70\n",
            "5358/5358 [==============================] - 1s 231us/step - loss: 0.3616 - acc: 0.8455 - val_loss: 0.4526 - val_acc: 0.8080\n",
            "Epoch 69/70\n",
            "5358/5358 [==============================] - 1s 228us/step - loss: 0.3639 - acc: 0.8417 - val_loss: 0.4362 - val_acc: 0.8087\n",
            "Epoch 70/70\n",
            "5358/5358 [==============================] - 1s 231us/step - loss: 0.3596 - acc: 0.8455 - val_loss: 0.4413 - val_acc: 0.8124\n"
          ],
          "name": "stdout"
        },
        {
          "output_type": "execute_result",
          "data": {
            "text/plain": [
              "<keras.callbacks.History at 0x7fa942b50860>"
            ]
          },
          "metadata": {
            "tags": []
          },
          "execution_count": 47
        }
      ]
    },
    {
      "cell_type": "code",
      "metadata": {
        "id": "BDN4zqoj_qWw",
        "colab_type": "code",
        "outputId": "468f1b30-a8d9-45e2-dcad-8aa365a5f92c",
        "colab": {
          "base_uri": "https://localhost:8080/",
          "height": 68
        }
      },
      "source": [
        "score, acc = model.evaluate(test_X, test_Y)\n",
        "print('Test score:', score)\n",
        "print('Test accuracy:', acc)"
      ],
      "execution_count": 0,
      "outputs": [
        {
          "output_type": "stream",
          "text": [
            "1375/1375 [==============================] - 1s 1ms/step\n",
            "Test score: 0.4413424301364205\n",
            "Test accuracy: 0.8123636358001015\n"
          ],
          "name": "stdout"
        }
      ]
    },
    {
      "cell_type": "code",
      "metadata": {
        "id": "zcPCFovXfaIc",
        "colab_type": "code",
        "outputId": "8555b1b4-4b22-44fa-b4b7-0eac7c9401cf",
        "colab": {
          "base_uri": "https://localhost:8080/",
          "height": 255
        }
      },
      "source": [
        "name = ['arun', 'ravi', 'shiva', 'tulsi', 'bhanu', 'simran', 'varun', 'lovely', 'sumit', 'madhu', 'sakti', 'saroj', 'aditya', 'himanshu']\n",
        "X=[]\n",
        "trunc_name = [i[0:maxlen] for i in name]\n",
        "for i in trunc_name:\n",
        "    tmp = [set_flag(char_index[j]) for j in str(i)]\n",
        "    for k in range(0,maxlen - len(str(i))):\n",
        "        tmp.append(set_flag(char_index[\"END\"]))\n",
        "    X.append(tmp)\n",
        "pred=model.predict(np.asarray(X))\n",
        "\n",
        "x = 0\n",
        "for i in pred:\n",
        "  if i[0]>0.7 or i[1]>0.7:\n",
        "    pr = 'male' if np.argmax(i) == 0 else 'female'\n",
        "    print(name[x], pr, i)\n",
        "  else:\n",
        "    print(name[x],'Find from image', i)\n",
        "  x+=1\n",
        "  "
      ],
      "execution_count": 0,
      "outputs": [
        {
          "output_type": "stream",
          "text": [
            "arun Find from image [0.38626096 0.6137391 ]\n",
            "ravi Find from image [0.64587504 0.35412496]\n",
            "shiva female [0.14806013 0.85193986]\n",
            "tulsi Find from image [0.49932063 0.5006794 ]\n",
            "bhanu Find from image [0.6831102  0.31688985]\n",
            "simran Find from image [0.6803287  0.31967124]\n",
            "varun male [0.8610457 0.1389543]\n",
            "lovely female [0.25212765 0.7478724 ]\n",
            "sumit male [0.93268543 0.06731457]\n",
            "madhu Find from image [0.4680304 0.5319696]\n",
            "sakti female [0.1194437 0.8805563]\n",
            "saroj male [0.9320922  0.06790784]\n",
            "aditya Find from image [0.6679771  0.33202288]\n",
            "himanshu male [0.8850499  0.11495011]\n"
          ],
          "name": "stdout"
        }
      ]
    },
    {
      "cell_type": "code",
      "metadata": {
        "id": "O8mx4Fzq_qW_",
        "colab_type": "code",
        "outputId": "2debb4b4-601a-4ad4-bb26-c90ddb9c3cfe",
        "colab": {
          "base_uri": "https://localhost:8080/",
          "height": 1000
        }
      },
      "source": [
        "X=[]\n",
        "q = 1\n",
        "name = [str(i)[0:maxlen] for i in test.name]\n",
        "trunc_name = [i[0:maxlen] for i in name]\n",
        "for i in trunc_name:\n",
        "    tmp = [set_flag(char_index[j]) for j in str(i)]\n",
        "    for k in range(0,maxlen - len(str(i))):\n",
        "        tmp.append(set_flag(char_index[\"END\"]))\n",
        "    X.append(tmp)\n",
        "pred=model.predict(np.asarray(X))\n",
        "for  i in range(len(pred)):\n",
        "    pr = 'male' if np.argmax(pred[i]) == 0 else 'female'\n",
        "    ac = 'male' if np.argmax(test_Y[i]) == 0 else 'female'\n",
        "    if pr != ac and (pred[i][0]>0.7 or pred[i][1]>0.7):\n",
        "      q+=1\n",
        "      print (\"{}, actual: {}, pred: {}\".format(name[i], ac, pr))\n",
        "\n",
        "print(q)"
      ],
      "execution_count": 0,
      "outputs": [
        {
          "output_type": "stream",
          "text": [
            "mariyam, actual: female, pred: male\n",
            "ishawar, actual: female, pred: male\n",
            "raghuvinder, actual: female, pred: male\n",
            "jioty, actual: female, pred: male\n",
            "kamar, actual: female, pred: male\n",
            "dolat, actual: female, pred: male\n",
            "sharjprit, actual: female, pred: male\n",
            "amie, actual: female, pred: male\n",
            "jugan, actual: female, pred: male\n",
            "chatru, actual: female, pred: male\n",
            "santosh, actual: female, pred: male\n",
            "batloon, actual: female, pred: male\n",
            "ataullah, actual: female, pred: male\n",
            "binu, actual: female, pred: male\n",
            "rafat, actual: female, pred: male\n",
            "nandu, actual: female, pred: male\n",
            "tausif, actual: female, pred: male\n",
            "lakhvinder, actual: female, pred: male\n",
            "rajenderi, actual: female, pred: male\n",
            "ifteshyam, actual: female, pred: male\n",
            "munesh, actual: female, pred: male\n",
            "viren, actual: female, pred: male\n",
            "durgash, actual: female, pred: male\n",
            "afroz, actual: female, pred: male\n",
            "paramjeet, actual: female, pred: male\n",
            "juneb, actual: female, pred: male\n",
            "bishnu, actual: female, pred: male\n",
            "ahshan, actual: female, pred: male\n",
            "shm, actual: female, pred: male\n",
            "memraj, actual: female, pred: male\n",
            "nargesh, actual: female, pred: male\n",
            "ekamjeet, actual: female, pred: male\n",
            "dhaneswar, actual: female, pred: male\n",
            "captain, actual: female, pred: male\n",
            "dur, actual: female, pred: male\n",
            "mehak, actual: female, pred: male\n",
            "ilyaash, actual: female, pred: male\n",
            "aasu, actual: female, pred: male\n",
            "guddiyaguddi, actual: female, pred: male\n",
            "risabh, actual: female, pred: male\n",
            "namen, actual: female, pred: male\n",
            "jhamaku, actual: female, pred: male\n",
            "lakhbir, actual: female, pred: male\n",
            "rosan, actual: female, pred: male\n",
            "faimuddin, actual: female, pred: male\n",
            "dimpal, actual: female, pred: male\n",
            "rupam, actual: female, pred: male\n",
            "mehvish, actual: female, pred: male\n",
            "izhar, actual: female, pred: male\n",
            "saranthem, actual: female, pred: male\n",
            "nargish, actual: female, pred: male\n",
            "daulat, actual: female, pred: male\n",
            "joity, actual: female, pred: male\n",
            "sunpreet, actual: female, pred: male\n",
            "gurdeep, actual: female, pred: male\n",
            "nassin, actual: female, pred: male\n",
            "nirvat, actual: female, pred: male\n",
            "nazeer, actual: female, pred: male\n",
            "rajinder, actual: female, pred: male\n",
            "sudesh, actual: female, pred: male\n",
            "nilofar, actual: female, pred: male\n",
            "mony, actual: female, pred: male\n",
            "parsann, actual: female, pred: male\n",
            "shakeeb, actual: female, pred: male\n",
            "girishchandra, actual: female, pred: male\n",
            "poojavarsha, actual: female, pred: male\n",
            "hagami, actual: female, pred: male\n",
            "isnesh, actual: female, pred: male\n",
            "veeru, actual: female, pred: male\n",
            "aatikun, actual: female, pred: male\n",
            "varsh, actual: female, pred: male\n",
            "mehru, actual: female, pred: male\n",
            "kushiv, actual: female, pred: male\n",
            "dhrama, actual: female, pred: male\n",
            "aishe, actual: female, pred: male\n",
            "vinder, actual: female, pred: male\n",
            "jenifer, actual: female, pred: male\n",
            "suchi, actual: female, pred: male\n",
            "yasmin, actual: female, pred: male\n",
            "nanveet, actual: female, pred: male\n",
            "mehfooj, actual: female, pred: male\n",
            "rimzim, actual: female, pred: male\n",
            "ishrat, actual: female, pred: male\n",
            "rabin, actual: female, pred: male\n",
            "amrat, actual: female, pred: male\n",
            "matul, actual: female, pred: male\n",
            "geet, actual: female, pred: male\n",
            "sithal, actual: female, pred: male\n",
            "sagiran, actual: female, pred: male\n",
            "bhaggo, actual: female, pred: male\n",
            "indra, actual: female, pred: male\n",
            "vyelet, actual: female, pred: male\n",
            "arafaat, actual: female, pred: male\n",
            "father, actual: female, pred: male\n",
            "asmit, actual: female, pred: male\n",
            "jashgul, actual: female, pred: male\n",
            "premature, actual: female, pred: male\n",
            "himanshee, actual: female, pred: male\n",
            "jarim, actual: female, pred: male\n",
            "kashif, actual: female, pred: male\n",
            "chanab, actual: female, pred: male\n",
            "lakhe, actual: female, pred: male\n",
            "bheema, actual: male, pred: female\n",
            "aru, actual: male, pred: female\n",
            "manshi, actual: male, pred: female\n",
            "gugna, actual: male, pred: female\n",
            "laka, actual: male, pred: female\n",
            "aaftaab, actual: male, pred: female\n",
            "sofali, actual: male, pred: female\n",
            "prithvi, actual: male, pred: female\n",
            "uda, actual: male, pred: female\n",
            "heeera, actual: male, pred: female\n",
            "sawali, actual: male, pred: female\n",
            "hanni, actual: male, pred: female\n",
            "nanka, actual: male, pred: female\n",
            "adi, actual: male, pred: female\n",
            "veeri, actual: male, pred: female\n",
            "kmdeyji, actual: male, pred: female\n",
            "bhala, actual: male, pred: female\n",
            "bhima, actual: male, pred: female\n",
            "rolly, actual: male, pred: female\n",
            "amiri, actual: male, pred: female\n",
            "jagpati, actual: male, pred: female\n",
            "rinkoo, actual: male, pred: female\n",
            "warmati, actual: male, pred: female\n",
            "kuwarjeet, actual: male, pred: female\n",
            "laliya, actual: male, pred: female\n",
            "jalmi, actual: male, pred: female\n",
            "deni, actual: male, pred: female\n",
            "sahajaha, actual: male, pred: female\n",
            "homa, actual: male, pred: female\n",
            "najubai, actual: male, pred: female\n",
            "ashwani, actual: male, pred: female\n",
            "jitenderjita, actual: male, pred: female\n",
            "jhalla, actual: male, pred: female\n",
            "lala, actual: male, pred: female\n",
            "jumrati, actual: male, pred: female\n",
            "lawrence, actual: male, pred: female\n",
            "firakat, actual: male, pred: female\n",
            "tuka, actual: male, pred: female\n",
            "shani, actual: male, pred: female\n",
            "ashwanimanish, actual: male, pred: female\n",
            "rana, actual: male, pred: female\n",
            "midda, actual: male, pred: female\n",
            "shreeniwas, actual: male, pred: female\n",
            "dana, actual: male, pred: female\n",
            "laltha, actual: male, pred: female\n",
            "saieman, actual: male, pred: female\n",
            "noornabi, actual: male, pred: female\n",
            "anokha, actual: male, pred: female\n",
            "na, actual: male, pred: female\n",
            "shaymu, actual: male, pred: female\n",
            "vinoda, actual: male, pred: female\n",
            "mokida, actual: male, pred: female\n",
            "155\n"
          ],
          "name": "stdout"
        }
      ]
    },
    {
      "cell_type": "code",
      "metadata": {
        "id": "1ziPfS1h_qXB",
        "colab_type": "code",
        "colab": {}
      },
      "source": [
        "# name=[\"sanju\",\"simran\",\"madhu\", \"amit\"]\n",
        "# X=[]\n",
        "# trunc_name = [i[0:maxlen] for i in name]\n",
        "# for i in trunc_name:\n",
        "#     tmp = [set_flag(char_index[j]) for j in str(i)]\n",
        "#     for k in range(0,maxlen - len(str(i))):\n",
        "#         tmp.append(set_flag(char_index[\"END\"]))\n",
        "#     X.append(tmp)\n",
        "# pred=model.predict(np.asarray(X))\n",
        "# pred"
      ],
      "execution_count": 0,
      "outputs": []
    },
    {
      "cell_type": "code",
      "metadata": {
        "id": "NP7GlvWZ_qXG",
        "colab_type": "code",
        "colab": {}
      },
      "source": [
        "#save our model and data\n",
        "model.save('gender_model',overwrite=True)\n",
        "# train.to_csv(\"train_split.csv\")\n",
        "# test.to_csv(\"test_split.csv\")"
      ],
      "execution_count": 0,
      "outputs": []
    },
    {
      "cell_type": "code",
      "metadata": {
        "id": "tg_F_1l9RNl4",
        "colab_type": "code",
        "colab": {}
      },
      "source": [
        ""
      ],
      "execution_count": 0,
      "outputs": []
    },
    {
      "cell_type": "code",
      "metadata": {
        "id": "aBI30lQa_qXR",
        "colab_type": "code",
        "colab": {}
      },
      "source": [
        "from keras.models import load_model\n",
        "new_model = load_model('./gender_model')"
      ],
      "execution_count": 0,
      "outputs": []
    },
    {
      "cell_type": "code",
      "metadata": {
        "id": "0SyUaOKNaOrt",
        "colab_type": "code",
        "outputId": "35fa3882-d111-4345-bc2f-a7ace47692bd",
        "colab": {
          "base_uri": "https://localhost:8080/",
          "height": 34
        }
      },
      "source": [
        "train_X.shape, test_X.shape, test_Y.shape, train_Y.shape"
      ],
      "execution_count": 0,
      "outputs": [
        {
          "output_type": "execute_result",
          "data": {
            "text/plain": [
              "((5108, 25, 28), (1225, 25, 28), (1225, 2), (5108, 2))"
            ]
          },
          "metadata": {
            "tags": []
          },
          "execution_count": 61
        }
      ]
    },
    {
      "cell_type": "code",
      "metadata": {
        "id": "1_16UAvUaO9p",
        "colab_type": "code",
        "outputId": "73b76a83-9be7-44ff-f0cc-450f26118255",
        "colab": {
          "base_uri": "https://localhost:8080/",
          "height": 1000
        }
      },
      "source": [
        "X=[]\n",
        "q = 1\n",
        "name = [str(i)[0:maxlen] for i in test.name]\n",
        "trunc_name = [i[0:maxlen] for i in name]\n",
        "for i in trunc_name:\n",
        "    tmp = [set_flag(char_index[j]) for j in str(i)]\n",
        "    for k in range(0,maxlen - len(str(i))):\n",
        "        tmp.append(set_flag(char_index[\"END\"]))\n",
        "    X.append(tmp)\n",
        "pred=new_model.predict(np.asarray(X))\n",
        "for  i in range(len(pred)):\n",
        "    pr = 'male' if np.argmax(pred[i]) == 0 else 'female'\n",
        "    ac = 'male' if np.argmax(test_Y[i]) == 0 else 'female'\n",
        "    if pr != ac and (pred[i][0]>0.7 or pred[i][1]>0.7):\n",
        "      q+=1\n",
        "      print (\"{}, actual: {}, pred: {}\".format(name[i], ac, pr))\n",
        "\n",
        "print(q)"
      ],
      "execution_count": 0,
      "outputs": [
        {
          "output_type": "stream",
          "text": [
            "mehvish, actual: female, pred: male\n",
            "tarunnam, actual: female, pred: male\n",
            "hasnain, actual: female, pred: male\n",
            "nancy, actual: female, pred: male\n",
            "jasvinder, actual: female, pred: male\n",
            "aazadijully, actual: female, pred: male\n",
            "siwam, actual: female, pred: male\n",
            "alis, actual: female, pred: male\n",
            "fool, actual: female, pred: male\n",
            "bsram, actual: female, pred: male\n",
            "daulat, actual: female, pred: male\n",
            "jioty, actual: female, pred: male\n",
            "maaya, actual: female, pred: male\n",
            "kajal, actual: female, pred: male\n",
            "saveroon, actual: female, pred: male\n",
            "used, actual: female, pred: male\n",
            "parmjeet, actual: female, pred: male\n",
            "nirvat, actual: female, pred: male\n",
            "samsher, actual: female, pred: male\n",
            "sudesh, actual: female, pred: male\n",
            "sabenoortamanna, actual: female, pred: male\n",
            "ishawar, actual: female, pred: male\n",
            "ekamjeet, actual: female, pred: male\n",
            "nasim, actual: female, pred: male\n",
            "awshin, actual: female, pred: male\n",
            "rukhsar, actual: female, pred: male\n",
            "taran, actual: female, pred: male\n",
            "rupender, actual: female, pred: male\n",
            "ruksar, actual: female, pred: male\n",
            "budho, actual: female, pred: male\n",
            "uved, actual: female, pred: male\n",
            "chnda, actual: female, pred: male\n",
            "kanchn, actual: female, pred: male\n",
            "rojmen, actual: female, pred: male\n",
            "kamjeet, actual: female, pred: male\n",
            "lakhvinder, actual: female, pred: male\n",
            "yukilal, actual: female, pred: male\n",
            "palvinder, actual: female, pred: male\n",
            "tyara, actual: female, pred: male\n",
            "dur, actual: female, pred: male\n",
            "balvinder, actual: female, pred: male\n",
            "shakeeb, actual: female, pred: male\n",
            "araddhna, actual: female, pred: male\n",
            "kumud, actual: female, pred: male\n",
            "wo, actual: female, pred: male\n",
            "dimpal, actual: female, pred: male\n",
            "deepka, actual: female, pred: male\n",
            "tasveeran, actual: female, pred: male\n",
            "sahawaj, actual: female, pred: male\n",
            "rinukanwr, actual: female, pred: male\n",
            "payal, actual: female, pred: male\n",
            "komal, actual: female, pred: male\n",
            "janid, actual: female, pred: male\n",
            "kalpna, actual: female, pred: male\n",
            "wilkish, actual: female, pred: male\n",
            "hyatun, actual: female, pred: male\n",
            "chhaya, actual: female, pred: male\n",
            "jaitun, actual: female, pred: male\n",
            "harjit, actual: female, pred: male\n",
            "rusan, actual: female, pred: male\n",
            "sagiran, actual: female, pred: male\n",
            "kajol, actual: female, pred: male\n",
            "ifteshyam, actual: female, pred: male\n",
            "anam, actual: female, pred: male\n",
            "kiran, actual: female, pred: male\n",
            "jaydurga, actual: female, pred: male\n",
            "preyank, actual: female, pred: male\n",
            "rabin, actual: female, pred: male\n",
            "ugam, actual: female, pred: male\n",
            "phol, actual: female, pred: male\n",
            "kritikakittu, actual: female, pred: male\n",
            "phul, actual: female, pred: male\n",
            "najis, actual: female, pred: male\n",
            "madam, actual: female, pred: male\n",
            "jeeren, actual: female, pred: male\n",
            "mariam, actual: female, pred: male\n",
            "shilap, actual: female, pred: male\n",
            "ahshan, actual: female, pred: male\n",
            "aanik, actual: female, pred: male\n",
            "satwinder, actual: female, pred: male\n",
            "parven, actual: female, pred: male\n",
            "bidhya, actual: female, pred: male\n",
            "pushpan, actual: female, pred: male\n",
            "nargish, actual: female, pred: male\n",
            "yunus, actual: female, pred: male\n",
            "kadu, actual: female, pred: male\n",
            "kaushar, actual: female, pred: male\n",
            "kosar, actual: female, pred: male\n",
            "miraz, actual: female, pred: male\n",
            "archan, actual: female, pred: male\n",
            "bantu, actual: female, pred: male\n",
            "sarwan, actual: female, pred: male\n",
            "jahirul, actual: female, pred: male\n",
            "shetal, actual: female, pred: male\n",
            "kamlash, actual: female, pred: male\n",
            "useel, actual: female, pred: male\n",
            "kr, actual: female, pred: male\n",
            "nooreen, actual: female, pred: male\n",
            "rupen, actual: female, pred: male\n",
            "ajmal, actual: female, pred: male\n",
            "viren, actual: female, pred: male\n",
            "ataullah, actual: female, pred: male\n",
            "manormapal, actual: female, pred: male\n",
            "aanchal, actual: female, pred: male\n",
            "mamt, actual: female, pred: male\n",
            "kamlajeet, actual: female, pred: male\n",
            "paramjit, actual: female, pred: male\n",
            "bitoo, actual: female, pred: male\n",
            "anjuman, actual: female, pred: male\n",
            "jincy, actual: female, pred: male\n",
            "zainab, actual: female, pred: male\n",
            "ramdulari, actual: female, pred: male\n",
            "nootan, actual: female, pred: male\n",
            "shakutal, actual: female, pred: male\n",
            "nikkhar, actual: female, pred: male\n",
            "yogeshwari, actual: female, pred: male\n",
            "vikshi, actual: female, pred: male\n",
            "foolmaya, actual: female, pred: male\n",
            "dishu, actual: female, pred: male\n",
            "sri, actual: male, pred: female\n",
            "deba, actual: male, pred: female\n",
            "badri, actual: male, pred: female\n",
            "punarjyoti, actual: male, pred: female\n",
            "nanka, actual: male, pred: female\n",
            "dhananjai, actual: male, pred: female\n",
            "sukka, actual: male, pred: female\n",
            "prashansa, actual: male, pred: female\n",
            "parmo, actual: male, pred: female\n",
            "noornabi, actual: male, pred: female\n",
            "amiri, actual: male, pred: female\n",
            "bheema, actual: male, pred: female\n",
            "sanjai, actual: male, pred: female\n",
            "chiranjavi, actual: male, pred: female\n",
            "pawna, actual: male, pred: female\n",
            "bunti, actual: male, pred: female\n",
            "bansi, actual: male, pred: female\n",
            "dimpy, actual: male, pred: female\n",
            "rammurti, actual: male, pred: female\n",
            "baccha, actual: male, pred: female\n",
            "sharee, actual: male, pred: female\n",
            "mishri, actual: male, pred: female\n",
            "geesa, actual: male, pred: female\n",
            "rookmani, actual: male, pred: female\n",
            "anli, actual: male, pred: female\n",
            "subrati, actual: male, pred: female\n",
            "tammanne, actual: male, pred: female\n",
            "nenhe, actual: male, pred: female\n",
            "yaswani, actual: male, pred: female\n",
            "mogli, actual: male, pred: female\n",
            "arjun, actual: male, pred: female\n",
            "gani, actual: male, pred: female\n",
            "harmani, actual: male, pred: female\n",
            "shakhtnsana, actual: male, pred: female\n",
            "tashnim, actual: male, pred: female\n",
            "julfi, actual: male, pred: female\n",
            "punia, actual: male, pred: female\n",
            "sahnaj, actual: male, pred: female\n",
            "jagdambika, actual: male, pred: female\n",
            "jeeya, actual: male, pred: female\n",
            "aansu, actual: male, pred: female\n",
            "nanhu, actual: male, pred: female\n",
            "akkni, actual: male, pred: female\n",
            "hazari, actual: male, pred: female\n",
            "lawli, actual: male, pred: female\n",
            "munne, actual: male, pred: female\n",
            "surya, actual: male, pred: female\n",
            "laliya, actual: male, pred: female\n",
            "subato, actual: male, pred: female\n",
            "razi, actual: male, pred: female\n",
            "njare, actual: male, pred: female\n",
            "baniya, actual: male, pred: female\n",
            "172\n"
          ],
          "name": "stdout"
        }
      ]
    },
    {
      "cell_type": "code",
      "metadata": {
        "id": "aB4Vpi9CaPC8",
        "colab_type": "code",
        "colab": {}
      },
      "source": [
        ""
      ],
      "execution_count": 0,
      "outputs": []
    },
    {
      "cell_type": "code",
      "metadata": {
        "id": "xrIeqorFaPIc",
        "colab_type": "code",
        "colab": {}
      },
      "source": [
        ""
      ],
      "execution_count": 0,
      "outputs": []
    },
    {
      "cell_type": "code",
      "metadata": {
        "id": "yJvI-d56aPTM",
        "colab_type": "code",
        "colab": {}
      },
      "source": [
        ""
      ],
      "execution_count": 0,
      "outputs": []
    },
    {
      "cell_type": "code",
      "metadata": {
        "id": "VbUlxUHAaPQW",
        "colab_type": "code",
        "colab": {}
      },
      "source": [
        ""
      ],
      "execution_count": 0,
      "outputs": []
    },
    {
      "cell_type": "code",
      "metadata": {
        "id": "2F2OBi2NaPOp",
        "colab_type": "code",
        "colab": {}
      },
      "source": [
        ""
      ],
      "execution_count": 0,
      "outputs": []
    },
    {
      "cell_type": "code",
      "metadata": {
        "id": "KEzO45oEaPNC",
        "colab_type": "code",
        "colab": {}
      },
      "source": [
        ""
      ],
      "execution_count": 0,
      "outputs": []
    },
    {
      "cell_type": "code",
      "metadata": {
        "id": "XQcWTht3aPGy",
        "colab_type": "code",
        "colab": {}
      },
      "source": [
        ""
      ],
      "execution_count": 0,
      "outputs": []
    },
    {
      "cell_type": "code",
      "metadata": {
        "id": "yeO4IK9aaPBd",
        "colab_type": "code",
        "colab": {}
      },
      "source": [
        ""
      ],
      "execution_count": 0,
      "outputs": []
    },
    {
      "cell_type": "code",
      "metadata": {
        "id": "2Gw99wnMaO7Y",
        "colab_type": "code",
        "colab": {}
      },
      "source": [
        ""
      ],
      "execution_count": 0,
      "outputs": []
    },
    {
      "cell_type": "code",
      "metadata": {
        "id": "N3soLOLZaO1j",
        "colab_type": "code",
        "colab": {}
      },
      "source": [
        ""
      ],
      "execution_count": 0,
      "outputs": []
    },
    {
      "cell_type": "code",
      "metadata": {
        "id": "Yoza3RSLaOvw",
        "colab_type": "code",
        "colab": {}
      },
      "source": [
        ""
      ],
      "execution_count": 0,
      "outputs": []
    },
    {
      "cell_type": "code",
      "metadata": {
        "id": "vJjSKjTNaOpF",
        "colab_type": "code",
        "colab": {}
      },
      "source": [
        ""
      ],
      "execution_count": 0,
      "outputs": []
    }
  ]
}